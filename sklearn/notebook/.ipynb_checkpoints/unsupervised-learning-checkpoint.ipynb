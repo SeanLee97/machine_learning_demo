{
 "cells": [
  {
   "cell_type": "code",
   "execution_count": 1,
   "metadata": {
    "collapsed": true
   },
   "outputs": [],
   "source": [
    "%matplotlib inline\n",
    "from preamble import *\n",
    "plt.rcParams['image.cmap'] = \"gray\""
   ]
  },
  {
   "cell_type": "code",
   "execution_count": 10,
   "metadata": {},
   "outputs": [
    {
     "name": "stdout",
     "output_type": "stream",
     "text": [
      "[[ 0.362  0.155  0.359 ...,  0.48   0.313  0.195]\n",
      " [ 0.536  0.343  0.532 ...,  0.519  0.297  0.155]\n",
      " [ 0.55   0.331  0.541 ...,  0.512  0.153  0.126]\n",
      " ..., \n",
      " [ 0.646  0.229  0.629 ...,  0.726  0.222  0.102]\n",
      " [ 0.313  0.387  0.3   ...,  0.213  0.174  0.1  ]\n",
      " [ 0.274  0.409  0.262 ...,  0.321  0.249  0.168]]\n",
      "[[ 0.137  0.301  0.139 ...,  0.335  0.208  0.196]\n",
      " [ 0.212  0.183  0.202 ...,  0.225  0.253  0.214]\n",
      " [ 0.355  0.374  0.349 ...,  0.421  0.287  0.088]\n",
      " ..., \n",
      " [ 0.39   0.696  0.412 ...,  0.81   0.498  0.563]\n",
      " [ 0.487  0.513  0.474 ...,  0.598  0.184  0.16 ]\n",
      " [ 0.36   0.376  0.371 ...,  0.928  0.532  0.475]]\n"
     ]
    }
   ],
   "source": [
    "from sklearn.datasets import load_breast_cancer\n",
    "from sklearn.model_selection import train_test_split\n",
    "from sklearn.preprocessing import MinMaxScaler\n",
    "\n",
    "cancer = load_breast_cancer()\n",
    "X = cancer.data\n",
    "y = cancer.target\n",
    "\n",
    "X_train, X_test, y_train, y_test = train_test_split(X, y, test_size=0.3)\n",
    "\n",
    "scaler.fit(X_train)\n",
    "\n",
    "X_train_scaled = scaler.transform(X_train)\n",
    "X_test_scaled = scaler.transform(X_test)\n",
    "print(X_train_scaled)\n",
    "print(X_test_scaled)"
   ]
  },
  {
   "cell_type": "code",
   "execution_count": null,
   "metadata": {
    "collapsed": true
   },
   "outputs": [],
   "source": []
  }
 ],
 "metadata": {
  "kernelspec": {
   "display_name": "Python 3",
   "language": "python",
   "name": "python3"
  },
  "language_info": {
   "codemirror_mode": {
    "name": "ipython",
    "version": 3
   },
   "file_extension": ".py",
   "mimetype": "text/x-python",
   "name": "python",
   "nbconvert_exporter": "python",
   "pygments_lexer": "ipython3",
   "version": "3.6.1"
  }
 },
 "nbformat": 4,
 "nbformat_minor": 2
}
